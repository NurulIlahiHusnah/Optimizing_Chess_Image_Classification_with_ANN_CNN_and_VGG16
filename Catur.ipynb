{
  "nbformat": 4,
  "nbformat_minor": 0,
  "metadata": {
    "colab": {
      "provenance": []
    },
    "kernelspec": {
      "name": "python3",
      "display_name": "Python 3"
    },
    "language_info": {
      "name": "python"
    }
  },
  "cells": [
    {
      "cell_type": "code",
      "execution_count": null,
      "metadata": {
        "id": "Is0VtUKqTZUR"
      },
      "outputs": [],
      "source": [
        "!pip install opendatasets\n",
        "import opendatasets as od\n",
        "import os\n",
        "import cv2\n",
        "import numpy as np\n",
        "import matplotlib.pyplot as plt\n",
        "\n",
        "from sklearn.model_selection import train_test_split\n",
        "from tensorflow.keras import layers, models\n",
        "from sklearn.utils import shuffle\n",
        "%matplotlib inline\n",
        "\n",
        "dataset = 'https://www.kaggle.com/datasets/anshulmehtakaggl/chess-pieces-detection-images-dataset'\n",
        "od.download(dataset)"
      ]
    },
    {
      "cell_type": "code",
      "source": [
        "data_dir = './chess-pieces-detection-images-dataset'\n",
        "os.listdir(data_dir)"
      ],
      "metadata": {
        "colab": {
          "base_uri": "https://localhost:8080/"
        },
        "id": "CDa6soqeTf4-",
        "outputId": "d3b0ece5-552f-4459-9d18-2c214b67fe12"
      },
      "execution_count": 2,
      "outputs": [
        {
          "output_type": "execute_result",
          "data": {
            "text/plain": [
              "['knight-resize',\n",
              " 'Rook-resize',\n",
              " 'bishop_resized',\n",
              " 'pawn_resized',\n",
              " 'Queen-Resized']"
            ]
          },
          "metadata": {},
          "execution_count": 2
        }
      ]
    },
    {
      "cell_type": "code",
      "source": [
        "# membuat list kosong untuk gambar dan nama label\n",
        "image_path = []\n",
        "labels = []\n",
        "\n",
        "# melakukan loop setiap kategori\n",
        "for label, category in enumerate(os.listdir(data_dir)):\n",
        "  category_path = os.path.join(data_dir, category)\n",
        "\n",
        "  #melakukan loop pada setiap gambar\n",
        "  for img_file in os.listdir(category_path):\n",
        "    img_path = os.path.join(category_path, img_file)\n",
        "\n",
        "    # membaca gambar dengan librari cv2\n",
        "    img = cv2.imread(img_path)\n",
        "\n",
        "    # melakukan resize gambar (64*64)\n",
        "    img_resized = cv2.resize(img,(64,64))\n",
        "\n",
        "    # mengkonversikan gambar ke array\n",
        "    img_array =cv2.cvtColor(img_resized, cv2.COLOR_BGR2RGB)\n",
        "\n",
        "    # menyimpan array gambar dan label kedalam list\n",
        "    image_path.append(img_array)\n",
        "    labels.append(label)\n",
        "\n",
        "# mengkonversi list ke array lalu melakukan reshape\n",
        "image_path = np.array(image_path)\n",
        "labels = np.array(labels)"
      ],
      "metadata": {
        "id": "N596EVg7TpZY"
      },
      "execution_count": 36,
      "outputs": []
    },
    {
      "cell_type": "code",
      "source": [
        "image_path.shape # jumlah gambar sebanyak 651 yang memiliki dimensi 64*64 dengan 3 saluran warna"
      ],
      "metadata": {
        "colab": {
          "base_uri": "https://localhost:8080/"
        },
        "id": "VlXFGgu36kPD",
        "outputId": "357526e9-a181-4201-ec19-6f68609d961c"
      },
      "execution_count": 37,
      "outputs": [
        {
          "output_type": "execute_result",
          "data": {
            "text/plain": [
              "(651, 64, 64, 3)"
            ]
          },
          "metadata": {},
          "execution_count": 37
        }
      ]
    },
    {
      "cell_type": "code",
      "source": [
        "# membagi data train dan test\n",
        "from sklearn.utils import shuffle\n",
        "X, y = shuffle(image_path, labels, random_state =1)\n",
        "X_train, X_test, y_train, y_test = train_test_split(X, y, test_size=0.2, random_state=42)\n",
        "print('Jumlah X_train:',len(X_train))\n",
        "print('Jumlah X_test:',len(X_test))"
      ],
      "metadata": {
        "id": "Epm6EIb6dmPg",
        "colab": {
          "base_uri": "https://localhost:8080/"
        },
        "outputId": "997a460b-97dc-414e-a61f-b8831ff9dbb4"
      },
      "execution_count": 39,
      "outputs": [
        {
          "output_type": "stream",
          "name": "stdout",
          "text": [
            "Jumlah X_train: 520\n",
            "Jumlah X_test: 131\n"
          ]
        }
      ]
    },
    {
      "cell_type": "code",
      "source": [
        "print(X_train.shape)\n",
        "print(X_test.shape)\n",
        "print(y_train.shape)\n",
        "print(y_test.shape)"
      ],
      "metadata": {
        "colab": {
          "base_uri": "https://localhost:8080/"
        },
        "id": "XHBMr2yP3eOq",
        "outputId": "a0b50cd9-1d6a-4960-e3ff-a6b9c13a9cce"
      },
      "execution_count": 40,
      "outputs": [
        {
          "output_type": "stream",
          "name": "stdout",
          "text": [
            "(520, 64, 64, 3)\n",
            "(131, 64, 64, 3)\n",
            "(520,)\n",
            "(131,)\n"
          ]
        }
      ]
    },
    {
      "cell_type": "code",
      "source": [
        "plt.figure(figsize=(15,2))\n",
        "plt.imshow(X_train[4])"
      ],
      "metadata": {
        "colab": {
          "base_uri": "https://localhost:8080/",
          "height": 236
        },
        "id": "cxwNVoJJe_Dx",
        "outputId": "0da952ac-d403-4fd3-cf71-2e00a90f0cc4"
      },
      "execution_count": 41,
      "outputs": [
        {
          "output_type": "execute_result",
          "data": {
            "text/plain": [
              "<matplotlib.image.AxesImage at 0x785001b09b70>"
            ]
          },
          "metadata": {},
          "execution_count": 41
        },
        {
          "output_type": "display_data",
          "data": {
            "text/plain": [
              "<Figure size 1500x200 with 1 Axes>"
            ],
            "image/png": "[encoded data removed]"
          },
          "metadata": {}
        }
      ]
    },
    {
      "cell_type": "code",
      "source": [
        "X_train[4]"
      ],
      "metadata": {
        "colab": {
          "base_uri": "https://localhost:8080/"
        },
        "id": "9DgG5FQ8m_vg",
        "outputId": "92c67a64-53f7-4562-c034-9a2ee788f2da"
      },
      "execution_count": 42,
      "outputs": [
        {
          "output_type": "execute_result",
          "data": {
            "text/plain": [
              "array([[[249, 249, 249],\n",
              "        [251, 251, 251],\n",
              "        [251, 251, 251],\n",
              "        ...,\n",
              "        [252, 252, 252],\n",
              "        [253, 253, 253],\n",
              "        [254, 254, 254]],\n",
              "\n",
              "       [[ 33,  33,  33],\n",
              "        [ 31,  31,  31],\n",
              "        [ 30,  30,  30],\n",
              "        ...,\n",
              "        [231, 231, 231],\n",
              "        [246, 246, 246],\n",
              "        [253, 253, 253]],\n",
              "\n",
              "       [[  9,   9,   9],\n",
              "        [  2,   2,   2],\n",
              "        [  0,   0,   0],\n",
              "        ...,\n",
              "        [201, 201, 201],\n",
              "        [231, 231, 231],\n",
              "        [249, 249, 249]],\n",
              "\n",
              "       ...,\n",
              "\n",
              "       [[252, 252, 252],\n",
              "        [246, 246, 246],\n",
              "        [235, 235, 235],\n",
              "        ...,\n",
              "        [199, 199, 199],\n",
              "        [231, 231, 231],\n",
              "        [246, 246, 246]],\n",
              "\n",
              "       [[255, 255, 255],\n",
              "        [254, 254, 254],\n",
              "        [252, 252, 252],\n",
              "        ...,\n",
              "        [236, 236, 236],\n",
              "        [243, 243, 243],\n",
              "        [252, 252, 252]],\n",
              "\n",
              "       [[253, 253, 253],\n",
              "        [253, 253, 253],\n",
              "        [254, 254, 254],\n",
              "        ...,\n",
              "        [249, 249, 249],\n",
              "        [252, 252, 252],\n",
              "        [253, 253, 253]]], dtype=uint8)"
            ]
          },
          "metadata": {},
          "execution_count": 42
        }
      ]
    },
    {
      "cell_type": "markdown",
      "source": [
        "### Normalisasi data"
      ],
      "metadata": {
        "id": "ddbGmZN5oYOt"
      }
    },
    {
      "cell_type": "code",
      "source": [
        "# melakukan standarisasi\n",
        "X_train = X_train/255.0\n",
        "X_test = X_test/255.0"
      ],
      "metadata": {
        "id": "hNwORlk9h5_p"
      },
      "execution_count": 43,
      "outputs": []
    },
    {
      "cell_type": "markdown",
      "source": [
        "### Menggunakan model ANN"
      ],
      "metadata": {
        "id": "2EZWNGRYnJ_p"
      }
    },
    {
      "cell_type": "code",
      "source": [
        "ann = models.Sequential([\n",
        "        layers.Flatten(input_shape=(64,64,3)),\n",
        "        layers.Dense(5000, activation='relu'),\n",
        "        layers.Dense(3000, activation='relu'),\n",
        "        layers.Dense(5, activation='sigmoid')\n",
        "    ])\n",
        "ann.compile(optimizer ='SGD',\n",
        "            loss='sparse_categorical_crossentropy',\n",
        "            metrics=['accuracy'])\n",
        "ann.fit(X_train, y_train, epochs=10)\n",
        "#Hasil setelah dilakukan permodelan tingkat akurasi sebesar 0.51(lemah)"
      ],
      "metadata": {
        "colab": {
          "base_uri": "https://localhost:8080/"
        },
        "id": "AIKj_I-rVrC3",
        "outputId": "a8e7658c-3eca-48cb-ec33-37f189612cb3"
      },
      "execution_count": 45,
      "outputs": [
        {
          "output_type": "stream",
          "name": "stdout",
          "text": [
            "Epoch 1/10\n",
            "17/17 [==============================] - 9s 459ms/step - loss: 3.5881 - accuracy: 0.2308\n",
            "Epoch 2/10\n",
            "17/17 [==============================] - 12s 701ms/step - loss: 1.5818 - accuracy: 0.3000\n",
            "Epoch 3/10\n",
            "17/17 [==============================] - 10s 576ms/step - loss: 1.4949 - accuracy: 0.3731\n",
            "Epoch 4/10\n",
            "17/17 [==============================] - 10s 577ms/step - loss: 1.4489 - accuracy: 0.3962\n",
            "Epoch 5/10\n",
            "17/17 [==============================] - 12s 658ms/step - loss: 1.4274 - accuracy: 0.4462\n",
            "Epoch 6/10\n",
            "17/17 [==============================] - 13s 732ms/step - loss: 1.3928 - accuracy: 0.4462\n",
            "Epoch 7/10\n",
            "17/17 [==============================] - 11s 661ms/step - loss: 1.3651 - accuracy: 0.4462\n",
            "Epoch 8/10\n",
            "17/17 [==============================] - 8s 465ms/step - loss: 1.3298 - accuracy: 0.5154\n",
            "Epoch 9/10\n",
            "17/17 [==============================] - 11s 653ms/step - loss: 1.2924 - accuracy: 0.5231\n",
            "Epoch 10/10\n",
            "17/17 [==============================] - 10s 581ms/step - loss: 1.2787 - accuracy: 0.5173\n"
          ]
        },
        {
          "output_type": "execute_result",
          "data": {
            "text/plain": [
              "<keras.src.callbacks.History at 0x78501843ffd0>"
            ]
          },
          "metadata": {},
          "execution_count": 45
        }
      ]
    },
    {
      "cell_type": "code",
      "source": [
        "ann.evaluate(X_test,y_test) # nilai evaluasi dengan menggunkan model ANN sebesar 0.30\n"
      ],
      "metadata": {
        "colab": {
          "base_uri": "https://localhost:8080/"
        },
        "id": "X9ZCHNrQSMp8",
        "outputId": "6c82f804-2ac2-49d4-e196-ea215ac28df9"
      },
      "execution_count": 46,
      "outputs": [
        {
          "output_type": "stream",
          "name": "stdout",
          "text": [
            "5/5 [==============================] - 1s 119ms/step - loss: 1.5696 - accuracy: 0.2977\n"
          ]
        },
        {
          "output_type": "execute_result",
          "data": {
            "text/plain": [
              "[1.5696202516555786, 0.2977099120616913]"
            ]
          },
          "metadata": {},
          "execution_count": 46
        }
      ]
    },
    {
      "cell_type": "code",
      "source": [
        "from sklearn.metrics import confusion_matrix, classification_report\n",
        "y_pred = ann.predict(X_test)\n",
        "y_pred_classes = [np.argmax(element) for element in y_pred]\n",
        "\n",
        "print('Classification Report: \\n', classification_report(y_test,y_pred_classes))"
      ],
      "metadata": {
        "colab": {
          "base_uri": "https://localhost:8080/"
        },
        "id": "wpaRXFQUSZiI",
        "outputId": "77f8cd80-63d6-497c-8878-54ed2df78e55"
      },
      "execution_count": 13,
      "outputs": [
        {
          "output_type": "stream",
          "name": "stdout",
          "text": [
            "5/5 [==============================] - 1s 114ms/step\n",
            "Classification Report: \n",
            "               precision    recall  f1-score   support\n",
            "\n",
            "           0       0.40      0.46      0.43        41\n",
            "           1       0.00      0.00      0.00        32\n",
            "           2       0.19      0.62      0.29        26\n",
            "           3       0.00      0.00      0.00        13\n",
            "           4       0.00      0.00      0.00        19\n",
            "\n",
            "    accuracy                           0.27       131\n",
            "   macro avg       0.12      0.22      0.14       131\n",
            "weighted avg       0.16      0.27      0.19       131\n",
            "\n"
          ]
        },
        {
          "output_type": "stream",
          "name": "stderr",
          "text": [
            "/usr/local/lib/python3.10/dist-packages/sklearn/metrics/_classification.py:1344: UndefinedMetricWarning: Precision and F-score are ill-defined and being set to 0.0 in labels with no predicted samples. Use `zero_division` parameter to control this behavior.\n",
            "  _warn_prf(average, modifier, msg_start, len(result))\n",
            "/usr/local/lib/python3.10/dist-packages/sklearn/metrics/_classification.py:1344: UndefinedMetricWarning: Precision and F-score are ill-defined and being set to 0.0 in labels with no predicted samples. Use `zero_division` parameter to control this behavior.\n",
            "  _warn_prf(average, modifier, msg_start, len(result))\n",
            "/usr/local/lib/python3.10/dist-packages/sklearn/metrics/_classification.py:1344: UndefinedMetricWarning: Precision and F-score are ill-defined and being set to 0.0 in labels with no predicted samples. Use `zero_division` parameter to control this behavior.\n",
            "  _warn_prf(average, modifier, msg_start, len(result))\n"
          ]
        }
      ]
    },
    {
      "cell_type": "markdown",
      "source": [
        "### Menggunakan model CNN"
      ],
      "metadata": {
        "id": "KJzLVJXTpnRg"
      }
    },
    {
      "cell_type": "code",
      "source": [
        "cnn = models.Sequential([\n",
        "    #CNN\n",
        "    layers.Conv2D(filters=32, kernel_size =(3,3), activation='relu',input_shape=(64,64,3)),\n",
        "    layers.MaxPooling2D((2,2)),\n",
        "\n",
        "    layers.Conv2D(filters=64, kernel_size =(3,3), activation='relu'),\n",
        "    layers.MaxPooling2D((2,2)),\n",
        "\n",
        "    layers.Flatten(),\n",
        "    layers.Dense(5000, activation='relu'),\n",
        "    layers.Dense(3000, activation='relu'),\n",
        "    layers.Dense(5, activation='sigmoid')\n",
        "    ])\n",
        "cnn.compile(optimizer ='adam',\n",
        "            loss='sparse_categorical_crossentropy',\n",
        "            metrics=['accuracy'])\n",
        "cnn.fit(X_train, y_train, epochs=10)\n",
        "#Hasil setelah dilakukan permodelan tingkat akurasi sebesar 0.95(baik)"
      ],
      "metadata": {
        "id": "CbwuGSOFN7hC",
        "colab": {
          "base_uri": "https://localhost:8080/"
        },
        "outputId": "c6877e3a-1806-43cb-9acc-093dcc89e2b7"
      },
      "execution_count": 53,
      "outputs": [
        {
          "output_type": "stream",
          "name": "stdout",
          "text": [
            "Epoch 1/10\n",
            "17/17 [==============================] - 30s 2s/step - loss: 3.1885 - accuracy: 0.2577\n",
            "Epoch 2/10\n",
            "17/17 [==============================] - 27s 2s/step - loss: 1.5748 - accuracy: 0.2788\n",
            "Epoch 3/10\n",
            "17/17 [==============================] - 27s 2s/step - loss: 1.4709 - accuracy: 0.3827\n",
            "Epoch 4/10\n",
            "17/17 [==============================] - 26s 2s/step - loss: 1.2063 - accuracy: 0.5269\n",
            "Epoch 5/10\n",
            "17/17 [==============================] - 25s 1s/step - loss: 0.8822 - accuracy: 0.6481\n",
            "Epoch 6/10\n",
            "17/17 [==============================] - 26s 2s/step - loss: 0.6491 - accuracy: 0.7442\n",
            "Epoch 7/10\n",
            "17/17 [==============================] - 27s 2s/step - loss: 0.4355 - accuracy: 0.8154\n",
            "Epoch 8/10\n",
            "17/17 [==============================] - 28s 2s/step - loss: 0.2649 - accuracy: 0.8981\n",
            "Epoch 9/10\n",
            "17/17 [==============================] - 25s 1s/step - loss: 0.2382 - accuracy: 0.9058\n",
            "Epoch 10/10\n",
            "17/17 [==============================] - 26s 1s/step - loss: 0.1439 - accuracy: 0.9577\n"
          ]
        },
        {
          "output_type": "execute_result",
          "data": {
            "text/plain": [
              "<keras.src.callbacks.History at 0x784fcd2b39a0>"
            ]
          },
          "metadata": {},
          "execution_count": 53
        }
      ]
    },
    {
      "cell_type": "code",
      "source": [
        "cnn.evaluate(X_test,y_test) # nilai evaluasi dengan menggunkan model CNN sebesar 0.53 mengalami peningkatan"
      ],
      "metadata": {
        "colab": {
          "base_uri": "https://localhost:8080/"
        },
        "id": "ecvFSaQmVxPX",
        "outputId": "8be83bbd-4916-4cd3-f485-19fb848efa18"
      },
      "execution_count": 54,
      "outputs": [
        {
          "output_type": "stream",
          "name": "stdout",
          "text": [
            "5/5 [==============================] - 1s 149ms/step - loss: 2.4847 - accuracy: 0.5344\n"
          ]
        },
        {
          "output_type": "execute_result",
          "data": {
            "text/plain": [
              "[2.484720468521118, 0.5343511700630188]"
            ]
          },
          "metadata": {},
          "execution_count": 54
        }
      ]
    },
    {
      "cell_type": "code",
      "source": [
        "ypred = cnn.predict(X_test)\n",
        "ypred[:3]"
      ],
      "metadata": {
        "id": "gBU74it_X6OV",
        "colab": {
          "base_uri": "https://localhost:8080/"
        },
        "outputId": "4b45edf2-16e4-42fe-9038-975fe3510876"
      },
      "execution_count": 55,
      "outputs": [
        {
          "output_type": "stream",
          "name": "stdout",
          "text": [
            "5/5 [==============================] - 1s 148ms/step\n"
          ]
        },
        {
          "output_type": "execute_result",
          "data": {
            "text/plain": [
              "array([[0.60293037, 0.9420229 , 0.0382219 , 0.71123755, 0.5418884 ],\n",
              "       [0.9984555 , 0.12311606, 0.03034751, 0.00142243, 0.99560606],\n",
              "       [0.30054253, 0.31426665, 0.2913994 , 0.09325589, 0.9974049 ]],\n",
              "      dtype=float32)"
            ]
          },
          "metadata": {},
          "execution_count": 55
        }
      ]
    },
    {
      "cell_type": "code",
      "source": [
        "y_classes = [np.argmax(element) for element in ypred]\n",
        "y_classes[:3]"
      ],
      "metadata": {
        "id": "tpEjk8RdYAnf",
        "colab": {
          "base_uri": "https://localhost:8080/"
        },
        "outputId": "d5c513aa-2755-42f6-9b20-7585d56a1490"
      },
      "execution_count": 56,
      "outputs": [
        {
          "output_type": "execute_result",
          "data": {
            "text/plain": [
              "[1, 0, 4]"
            ]
          },
          "metadata": {},
          "execution_count": 56
        }
      ]
    },
    {
      "cell_type": "code",
      "source": [
        "y_test[:3] # hasil kurang sesuai dengan prediksi y_classes dimana 4 harusnya 3"
      ],
      "metadata": {
        "colab": {
          "base_uri": "https://localhost:8080/"
        },
        "id": "G2cPvHlqyj6K",
        "outputId": "2bdaf5c4-efd9-4925-a37b-9d9d1b1dda65"
      },
      "execution_count": 57,
      "outputs": [
        {
          "output_type": "execute_result",
          "data": {
            "text/plain": [
              "array([1, 0, 3])"
            ]
          },
          "metadata": {},
          "execution_count": 57
        }
      ]
    },
    {
      "cell_type": "code",
      "source": [
        "print('Classificaion Report: \\n', classification_report(y_test,y_classes))"
      ],
      "metadata": {
        "colab": {
          "base_uri": "https://localhost:8080/"
        },
        "id": "VFuABbUo0_cr",
        "outputId": "01be4346-bd49-46e8-a98b-2768bfd933f8"
      },
      "execution_count": 58,
      "outputs": [
        {
          "output_type": "stream",
          "name": "stdout",
          "text": [
            "Classificaion Report: \n",
            "               precision    recall  f1-score   support\n",
            "\n",
            "           0       0.55      0.68      0.61        31\n",
            "           1       0.69      0.64      0.67        28\n",
            "           2       0.67      0.53      0.59        30\n",
            "           3       0.50      0.21      0.30        14\n",
            "           4       0.32      0.43      0.37        28\n",
            "\n",
            "    accuracy                           0.53       131\n",
            "   macro avg       0.55      0.50      0.51       131\n",
            "weighted avg       0.55      0.53      0.53       131\n",
            "\n"
          ]
        }
      ]
    },
    {
      "cell_type": "code",
      "source": [],
      "metadata": {
        "id": "gelawV3r3aRM"
      },
      "execution_count": null,
      "outputs": []
    },
    {
      "cell_type": "markdown",
      "source": [
        "### Menggunakan model VGG16"
      ],
      "metadata": {
        "id": "wBWDkCZ_olU-"
      }
    },
    {
      "cell_type": "code",
      "source": [
        "from keras.applications.vgg16 import VGG16\n",
        "model = VGG16()\n",
        "model.summary()"
      ],
      "metadata": {
        "colab": {
          "base_uri": "https://localhost:8080/"
        },
        "id": "lGDN_FLAopIi",
        "outputId": "94e9fdeb-4d9b-459c-d59c-89d2d358d905"
      },
      "execution_count": 59,
      "outputs": [
        {
          "output_type": "stream",
          "name": "stdout",
          "text": [
            "Downloading data from https://storage.googleapis.com/tensorflow/keras-applications/vgg16/vgg16_weights_tf_dim_ordering_tf_kernels.h5\n",
            "553467096/553467096 [==============================] - 16s 0us/step\n",
            "Model: \"vgg16\"\n",
            "_________________________________________________________________\n",
            " Layer (type)                Output Shape              Param #   \n",
            "=================================================================\n",
            " input_1 (InputLayer)        [(None, 224, 224, 3)]     0         \n",
            "                                                                 \n",
            " block1_conv1 (Conv2D)       (None, 224, 224, 64)      1792      \n",
            "                                                                 \n",
            " block1_conv2 (Conv2D)       (None, 224, 224, 64)      36928     \n",
            "                                                                 \n",
            " block1_pool (MaxPooling2D)  (None, 112, 112, 64)      0         \n",
            "                                                                 \n",
            " block2_conv1 (Conv2D)       (None, 112, 112, 128)     73856     \n",
            "                                                                 \n",
            " block2_conv2 (Conv2D)       (None, 112, 112, 128)     147584    \n",
            "                                                                 \n",
            " block2_pool (MaxPooling2D)  (None, 56, 56, 128)       0         \n",
            "                                                                 \n",
            " block3_conv1 (Conv2D)       (None, 56, 56, 256)       295168    \n",
            "                                                                 \n",
            " block3_conv2 (Conv2D)       (None, 56, 56, 256)       590080    \n",
            "                                                                 \n",
            " block3_conv3 (Conv2D)       (None, 56, 56, 256)       590080    \n",
            "                                                                 \n",
            " block3_pool (MaxPooling2D)  (None, 28, 28, 256)       0         \n",
            "                                                                 \n",
            " block4_conv1 (Conv2D)       (None, 28, 28, 512)       1180160   \n",
            "                                                                 \n",
            " block4_conv2 (Conv2D)       (None, 28, 28, 512)       2359808   \n",
            "                                                                 \n",
            " block4_conv3 (Conv2D)       (None, 28, 28, 512)       2359808   \n",
            "                                                                 \n",
            " block4_pool (MaxPooling2D)  (None, 14, 14, 512)       0         \n",
            "                                                                 \n",
            " block5_conv1 (Conv2D)       (None, 14, 14, 512)       2359808   \n",
            "                                                                 \n",
            " block5_conv2 (Conv2D)       (None, 14, 14, 512)       2359808   \n",
            "                                                                 \n",
            " block5_conv3 (Conv2D)       (None, 14, 14, 512)       2359808   \n",
            "                                                                 \n",
            " block5_pool (MaxPooling2D)  (None, 7, 7, 512)         0         \n",
            "                                                                 \n",
            " flatten (Flatten)           (None, 25088)             0         \n",
            "                                                                 \n",
            " fc1 (Dense)                 (None, 4096)              102764544 \n",
            "                                                                 \n",
            " fc2 (Dense)                 (None, 4096)              16781312  \n",
            "                                                                 \n",
            " predictions (Dense)         (None, 1000)              4097000   \n",
            "                                                                 \n",
            "=================================================================\n",
            "Total params: 138357544 (527.79 MB)\n",
            "Trainable params: 138357544 (527.79 MB)\n",
            "Non-trainable params: 0 (0.00 Byte)\n",
            "_________________________________________________________________\n"
          ]
        }
      ]
    },
    {
      "cell_type": "code",
      "source": [
        "from keras.models import Model\n",
        "from keras.layers import Dense, Flatten\n",
        "from keras.optimizers import Adam\n",
        "base_model = VGG16(weights='imagenet',\n",
        "                   include_top=False,\n",
        "                   input_shape=(64,64,3))\n",
        "\n",
        "x = base_model.output\n",
        "x = Flatten()(x)\n",
        "output_layer = Dense(len(set(labels)), activation='softmax')(x)\n",
        "\n",
        "model = Model(inputs=base_model.input, outputs = output_layer)\n",
        "\n",
        "model.compile(optimizer= Adam(learning_rate=0.0001),\n",
        "                loss='sparse_categorical_crossentropy',\n",
        "                metrics=['accuracy'])\n",
        "\n",
        "model.fit(X_train, y_train, epochs=10, validation_data=(X_test, y_test))"
      ],
      "metadata": {
        "colab": {
          "base_uri": "https://localhost:8080/"
        },
        "id": "G5n61TDM79M9",
        "outputId": "5f78c3b9-9fdd-4d98-d43f-11d9bb004e23"
      },
      "execution_count": 68,
      "outputs": [
        {
          "output_type": "stream",
          "name": "stdout",
          "text": [
            "Epoch 1/10\n",
            "17/17 [==============================] - 113s 6s/step - loss: 1.1965 - accuracy: 0.5250 - val_loss: 0.9411 - val_accuracy: 0.6489\n",
            "Epoch 2/10\n",
            "17/17 [==============================] - 103s 6s/step - loss: 0.4826 - accuracy: 0.8308 - val_loss: 0.6823 - val_accuracy: 0.7863\n",
            "Epoch 3/10\n",
            "17/17 [==============================] - 107s 6s/step - loss: 0.4090 - accuracy: 0.8308 - val_loss: 0.5881 - val_accuracy: 0.7557\n",
            "Epoch 4/10\n",
            "17/17 [==============================] - 106s 6s/step - loss: 0.2773 - accuracy: 0.9115 - val_loss: 0.4746 - val_accuracy: 0.8397\n",
            "Epoch 5/10\n",
            "17/17 [==============================] - 108s 6s/step - loss: 0.1533 - accuracy: 0.9385 - val_loss: 0.3492 - val_accuracy: 0.8855\n",
            "Epoch 6/10\n",
            "17/17 [==============================] - 107s 6s/step - loss: 0.0718 - accuracy: 0.9712 - val_loss: 0.4640 - val_accuracy: 0.8397\n",
            "Epoch 7/10\n",
            "17/17 [==============================] - 107s 6s/step - loss: 0.0967 - accuracy: 0.9635 - val_loss: 0.5809 - val_accuracy: 0.8244\n",
            "Epoch 8/10\n",
            "17/17 [==============================] - 109s 6s/step - loss: 0.0672 - accuracy: 0.9808 - val_loss: 0.5785 - val_accuracy: 0.8092\n",
            "Epoch 9/10\n",
            "17/17 [==============================] - 107s 6s/step - loss: 0.0353 - accuracy: 0.9846 - val_loss: 0.5879 - val_accuracy: 0.8168\n",
            "Epoch 10/10\n",
            "17/17 [==============================] - 107s 6s/step - loss: 0.0169 - accuracy: 0.9885 - val_loss: 0.5551 - val_accuracy: 0.8473\n"
          ]
        },
        {
          "output_type": "execute_result",
          "data": {
            "text/plain": [
              "<keras.src.callbacks.History at 0x784ffbdb8ee0>"
            ]
          },
          "metadata": {},
          "execution_count": 68
        }
      ]
    },
    {
      "cell_type": "code",
      "source": [],
      "metadata": {
        "id": "AOrvDYsP-pYX"
      },
      "execution_count": null,
      "outputs": []
    }
  ]
}